{
 "cells": [
  {
   "cell_type": "markdown",
   "id": "f83cc471-9e4f-4f30-94b1-536397cdd44f",
   "metadata": {},
   "source": [
    "## Session Initialization"
   ]
  },
  {
   "cell_type": "code",
   "execution_count": 1,
   "id": "8b370500-bd6b-46ad-a03a-ff9b43eebf03",
   "metadata": {},
   "outputs": [],
   "source": [
    "from pathlib import Path\n",
    "import pyspark\n",
    "from pyspark import SparkContext\n",
    "\n",
    "sc = SparkContext()\n",
    "spark = pyspark.sql.SparkSession(sc, jsparkSession=None)"
   ]
  },
  {
   "cell_type": "markdown",
   "id": "26ab70ca-54f7-4209-8fbe-a9d139b3b15c",
   "metadata": {},
   "source": [
    "## Read CSV (without schema)"
   ]
  },
  {
   "cell_type": "code",
   "execution_count": 2,
   "id": "7486b36e-df65-4f27-8b30-7ddb0a74edba",
   "metadata": {},
   "outputs": [],
   "source": [
    "dir = Path.cwd().parent / \"Files\" / \"bookcontents.csv\"\n",
    "file = str(dir)\n",
    "bookDF = spark.read.csv(file)"
   ]
  },
  {
   "cell_type": "code",
   "execution_count": 3,
   "id": "c302f6b8-2d68-4bcb-9638-9d75a2cb9daf",
   "metadata": {},
   "outputs": [
    {
     "name": "stdout",
     "output_type": "stream",
     "text": [
      "root\n",
      " |-- _c0: string (nullable = true)\n",
      " |-- _c1: string (nullable = true)\n",
      " |-- _c2: string (nullable = true)\n",
      "\n"
     ]
    }
   ],
   "source": [
    "bookDF.printSchema()"
   ]
  },
  {
   "cell_type": "code",
   "execution_count": 4,
   "id": "5c5f0cfc-9a4c-44fd-b6ba-a869d3e92060",
   "metadata": {},
   "outputs": [
    {
     "name": "stdout",
     "output_type": "stream",
     "text": [
      "+-------+--------------------+----+\n",
      "|    _c0|                 _c1| _c2|\n",
      "+-------+--------------------+----+\n",
      "|Chapter|                Name|Page|\n",
      "|      1|        Introduction|  11|\n",
      "|      2|Basic Engineering...|  19|\n",
      "|      3|Advanced Engineer...|  28|\n",
      "|      4|     Hands On Course|  60|\n",
      "|      5|        Case Studies|  62|\n",
      "|      6|Best Practices Cl...|  73|\n",
      "|      7|130+ Data Sources...|  77|\n",
      "|      8|1001 Interview Qu...|  82|\n",
      "|      9|Recommended Books...|  87|\n",
      "+-------+--------------------+----+\n",
      "\n"
     ]
    }
   ],
   "source": [
    "bookDF.show()"
   ]
  },
  {
   "cell_type": "markdown",
   "id": "f273def0-4a39-4400-83f0-a6b2af7a2d31",
   "metadata": {},
   "source": [
    "## Read CSV with Header"
   ]
  },
  {
   "cell_type": "code",
   "execution_count": 5,
   "id": "cbe0e03b-220a-40cc-87c5-216fab3a1853",
   "metadata": {},
   "outputs": [],
   "source": [
    "bookHeaderDF = spark.read.option(\"header\", \"True\").csv(file)"
   ]
  },
  {
   "cell_type": "code",
   "execution_count": 6,
   "id": "14962539-995e-4faa-9623-7d81a816295e",
   "metadata": {},
   "outputs": [
    {
     "name": "stdout",
     "output_type": "stream",
     "text": [
      "root\n",
      " |-- Chapter: string (nullable = true)\n",
      " |-- Name: string (nullable = true)\n",
      " |-- Page: string (nullable = true)\n",
      "\n"
     ]
    }
   ],
   "source": [
    "bookHeaderDF.printSchema()"
   ]
  },
  {
   "cell_type": "code",
   "execution_count": 7,
   "id": "144e8595-70b2-4cbf-a627-04cfab3312f2",
   "metadata": {},
   "outputs": [
    {
     "name": "stdout",
     "output_type": "stream",
     "text": [
      "+-------+--------------------+----+\n",
      "|Chapter|                Name|Page|\n",
      "+-------+--------------------+----+\n",
      "|      1|        Introduction|  11|\n",
      "|      2|Basic Engineering...|  19|\n",
      "|      3|Advanced Engineer...|  28|\n",
      "|      4|     Hands On Course|  60|\n",
      "|      5|        Case Studies|  62|\n",
      "|      6|Best Practices Cl...|  73|\n",
      "|      7|130+ Data Sources...|  77|\n",
      "|      8|1001 Interview Qu...|  82|\n",
      "|      9|Recommended Books...|  87|\n",
      "+-------+--------------------+----+\n",
      "\n"
     ]
    }
   ],
   "source": [
    "bookHeaderDF.show()"
   ]
  },
  {
   "cell_type": "markdown",
   "id": "af8bf641-18e2-41b8-be2d-48310c09618e",
   "metadata": {},
   "source": [
    "## Read CSV with Header & Inference"
   ]
  },
  {
   "cell_type": "code",
   "execution_count": 8,
   "id": "4a08b28c-05b1-49d3-a4ee-0ea2e9fadc6c",
   "metadata": {},
   "outputs": [],
   "source": [
    "bookInfHeaderDF = spark.read.option(\"InferSchema\", \"True\").option(\"Header\", \"True\").csv(file)"
   ]
  },
  {
   "cell_type": "code",
   "execution_count": 9,
   "id": "6fc3108f-e0a7-413c-9b20-46f67cf10ae0",
   "metadata": {},
   "outputs": [
    {
     "name": "stdout",
     "output_type": "stream",
     "text": [
      "root\n",
      " |-- Chapter: integer (nullable = true)\n",
      " |-- Name: string (nullable = true)\n",
      " |-- Page: integer (nullable = true)\n",
      "\n"
     ]
    }
   ],
   "source": [
    "bookInfHeaderDF.printSchema()"
   ]
  },
  {
   "cell_type": "code",
   "execution_count": 10,
   "id": "66b93514-44d3-48e4-89d3-b8a0d100ec72",
   "metadata": {},
   "outputs": [
    {
     "name": "stdout",
     "output_type": "stream",
     "text": [
      "+-------+--------------------+----+\n",
      "|Chapter|                Name|Page|\n",
      "+-------+--------------------+----+\n",
      "|      1|        Introduction|  11|\n",
      "|      2|Basic Engineering...|  19|\n",
      "|      3|Advanced Engineer...|  28|\n",
      "|      4|     Hands On Course|  60|\n",
      "|      5|        Case Studies|  62|\n",
      "|      6|Best Practices Cl...|  73|\n",
      "|      7|130+ Data Sources...|  77|\n",
      "|      8|1001 Interview Qu...|  82|\n",
      "|      9|Recommended Books...|  87|\n",
      "+-------+--------------------+----+\n",
      "\n"
     ]
    }
   ],
   "source": [
    "bookInfHeaderDF.show()"
   ]
  },
  {
   "cell_type": "markdown",
   "id": "e51f7db9-a892-4626-a030-9787f77c7db6",
   "metadata": {},
   "source": [
    "## Manual Schema"
   ]
  },
  {
   "cell_type": "code",
   "execution_count": 11,
   "id": "4ea074f6-54fc-4fdc-8039-4a1e28515426",
   "metadata": {},
   "outputs": [],
   "source": [
    "from pyspark.sql.types import *"
   ]
  },
  {
   "cell_type": "code",
   "execution_count": 12,
   "id": "9c8c3e85-3d2d-4d35-8c6f-7d6c6873f8bd",
   "metadata": {},
   "outputs": [],
   "source": [
    "col = [\n",
    "    StructField(\"Chapter\", IntegerType()),\n",
    "    StructField(\"Name\", StringType()),\n",
    "    StructField(\"Page\", FloatType())\n",
    "]\n",
    "\n",
    "csvSchema = StructType(col)"
   ]
  },
  {
   "cell_type": "code",
   "execution_count": 13,
   "id": "35b6bc28-984b-4b06-97d1-c549c2b4ca52",
   "metadata": {},
   "outputs": [],
   "source": [
    "manualShemaDF = spark.read.schema(csvSchema).csv(file)"
   ]
  },
  {
   "cell_type": "code",
   "execution_count": 14,
   "id": "2d970db4-d72d-4134-a903-9c7b7eb5ba60",
   "metadata": {},
   "outputs": [
    {
     "name": "stdout",
     "output_type": "stream",
     "text": [
      "root\n",
      " |-- Chapter: integer (nullable = true)\n",
      " |-- Name: string (nullable = true)\n",
      " |-- Page: float (nullable = true)\n",
      "\n"
     ]
    }
   ],
   "source": [
    "manualShemaDF.printSchema()"
   ]
  },
  {
   "cell_type": "code",
   "execution_count": 15,
   "id": "ab6fda0d-35a4-4e00-b69d-d2c183a6fc9f",
   "metadata": {},
   "outputs": [
    {
     "name": "stdout",
     "output_type": "stream",
     "text": [
      "+-------+--------------------+----+\n",
      "|Chapter|                Name|Page|\n",
      "+-------+--------------------+----+\n",
      "|   null|                Name|null|\n",
      "|      1|        Introduction|11.0|\n",
      "|      2|Basic Engineering...|19.0|\n",
      "|      3|Advanced Engineer...|28.0|\n",
      "|      4|     Hands On Course|60.0|\n",
      "|      5|        Case Studies|62.0|\n",
      "|      6|Best Practices Cl...|73.0|\n",
      "|      7|130+ Data Sources...|77.0|\n",
      "|      8|1001 Interview Qu...|82.0|\n",
      "|      9|Recommended Books...|87.0|\n",
      "+-------+--------------------+----+\n",
      "\n"
     ]
    }
   ],
   "source": [
    "manualShemaDF.show()"
   ]
  },
  {
   "cell_type": "code",
   "execution_count": 16,
   "id": "188a76fa-9281-4b97-8e65-c2de21a56de2",
   "metadata": {},
   "outputs": [
    {
     "name": "stdout",
     "output_type": "stream",
     "text": [
      "+-------+--------------------+----+\n",
      "|Chapter|                Name|Page|\n",
      "+-------+--------------------+----+\n",
      "|      1|        Introduction|11.0|\n",
      "|      2|Basic Engineering...|19.0|\n",
      "|      3|Advanced Engineer...|28.0|\n",
      "|      4|     Hands On Course|60.0|\n",
      "|      5|        Case Studies|62.0|\n",
      "|      6|Best Practices Cl...|73.0|\n",
      "|      7|130+ Data Sources...|77.0|\n",
      "|      8|1001 Interview Qu...|82.0|\n",
      "|      9|Recommended Books...|87.0|\n",
      "+-------+--------------------+----+\n",
      "\n"
     ]
    }
   ],
   "source": [
    "manualShemaDF.where(\"Page is not null\").show()"
   ]
  },
  {
   "cell_type": "code",
   "execution_count": null,
   "id": "6c4b63cf-9cc5-4622-b3ec-287b8035f91b",
   "metadata": {},
   "outputs": [],
   "source": []
  }
 ],
 "metadata": {
  "kernelspec": {
   "display_name": "Python 3 (ipykernel)",
   "language": "python",
   "name": "python3"
  },
  "language_info": {
   "codemirror_mode": {
    "name": "ipython",
    "version": 3
   },
   "file_extension": ".py",
   "mimetype": "text/x-python",
   "name": "python",
   "nbconvert_exporter": "python",
   "pygments_lexer": "ipython3",
   "version": "3.10.8"
  }
 },
 "nbformat": 4,
 "nbformat_minor": 5
}
