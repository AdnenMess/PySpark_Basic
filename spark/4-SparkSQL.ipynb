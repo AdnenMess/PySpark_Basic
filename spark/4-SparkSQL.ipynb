{
 "cells": [
  {
   "cell_type": "markdown",
   "id": "895758ba-679c-42dc-bd76-4af0465dd860",
   "metadata": {},
   "source": [
    "## Session Initialization"
   ]
  },
  {
   "cell_type": "code",
   "execution_count": 1,
   "id": "b6baf068-7fe2-4d8c-a0d6-c083519b6efd",
   "metadata": {},
   "outputs": [],
   "source": [
    "from pathlib import Path\n",
    "import pyspark\n",
    "from pyspark import SparkContext\n",
    "\n",
    "sc = SparkContext()\n",
    "spark = pyspark.sql.SparkSession(sc, jsparkSession=None)"
   ]
  },
  {
   "cell_type": "markdown",
   "id": "686b5b2c-3002-414b-8ca0-e8d2fe32fef6",
   "metadata": {},
   "source": [
    "## Prepare the data"
   ]
  },
  {
   "cell_type": "code",
   "execution_count": 2,
   "id": "c2e6ec30-c203-4003-a467-c1a3493b6348",
   "metadata": {},
   "outputs": [],
   "source": [
    "path_1 = Path.cwd().parent / \"Files\" / \"bookcontents.csv\"\n",
    "path_2 = Path.cwd().parent / \"Files\" / \"sections.csv\"\n",
    "book = str(path_1)\n",
    "section = str(path_2)"
   ]
  },
  {
   "cell_type": "code",
   "execution_count": 3,
   "id": "08bcfd7b-3619-4cb7-9aaa-a9494c0e6979",
   "metadata": {},
   "outputs": [],
   "source": [
    "# Load Chapters\n",
    "bookChapterDF = spark.read.option(\"inferSchema\",\"true\").option(\"header\",\"true\").csv(book)\n",
    "# Load Sections\n",
    "sectionDF = spark.read.option(\"inferSchema\",\"true\").option(\"header\",\"true\").csv(section)\n",
    "# Join the DataFrames\n",
    "bookContentDF = sectionDF.join(bookChapterDF,\"Chapter\", \"inner\")"
   ]
  },
  {
   "cell_type": "markdown",
   "id": "8bd3cd93-ac73-46d4-ab63-77aa15957589",
   "metadata": {},
   "source": [
    "## Create temporary view of DataFrame"
   ]
  },
  {
   "cell_type": "code",
   "execution_count": 4,
   "id": "8ecbdb65-b4a7-48c5-9995-b7228978fa77",
   "metadata": {},
   "outputs": [],
   "source": [
    "# With that you can create and replace a view if it has already been created\n",
    "# createTempView, createOrReplaceTempView,createGlobalTempView\n",
    "bookContentDF.createOrReplaceTempView(\"bookView\")"
   ]
  },
  {
   "cell_type": "code",
   "execution_count": 5,
   "id": "1e12112c-7f02-4f88-937b-0750616c37af",
   "metadata": {},
   "outputs": [
    {
     "name": "stdout",
     "output_type": "stream",
     "text": [
      "+-------+-------+--------------------+------------+----+\n",
      "|Chapter|Section|        Section_Name|        Name|Page|\n",
      "+-------+-------+--------------------+------------+----+\n",
      "|      1|    1.1|What is this Cook...|Introduction|  11|\n",
      "|      1|    1.2|Data Engineer vs ...|Introduction|  11|\n",
      "|      1|    1.3|My Data Science P...|Introduction|  11|\n",
      "|      1|    1.4|  Who Companies Need|Introduction|  11|\n",
      "+-------+-------+--------------------+------------+----+\n",
      "\n"
     ]
    }
   ],
   "source": [
    "spark.sql(\"\"\"\n",
    "Select * From bookView \n",
    "Where Chapter = 1 \"\"\").show()"
   ]
  },
  {
   "cell_type": "markdown",
   "id": "10812978-e827-41ec-9dd5-d1a8cb95898c",
   "metadata": {},
   "source": [
    "## Create DataFrame from SparkSQL"
   ]
  },
  {
   "cell_type": "code",
   "execution_count": 6,
   "id": "36cf550b-79aa-4a0d-bb07-36ebcdfa08e5",
   "metadata": {},
   "outputs": [
    {
     "data": {
      "text/plain": [
       "[Table(name='bookview', database=None, description=None, tableType='TEMPORARY', isTemporary=True)]"
      ]
     },
     "execution_count": 6,
     "metadata": {},
     "output_type": "execute_result"
    }
   ],
   "source": [
    "# If we have multiples tables\n",
    "spark.catalog.listTables()"
   ]
  },
  {
   "cell_type": "code",
   "execution_count": 7,
   "id": "9601059e-0029-442c-bbba-86b5b01fc594",
   "metadata": {},
   "outputs": [
    {
     "name": "stdout",
     "output_type": "stream",
     "text": [
      "+-------+-------+--------------------+--------------------+----+\n",
      "|Chapter|Section|        Section_Name|                Name|Page|\n",
      "+-------+-------+--------------------+--------------------+----+\n",
      "|      1|    1.1|What is this Cook...|        Introduction|  11|\n",
      "|      1|    1.2|Data Engineer vs ...|        Introduction|  11|\n",
      "|      1|    1.3|My Data Science P...|        Introduction|  11|\n",
      "|      1|    1.4|  Who Companies Need|        Introduction|  11|\n",
      "|      2|    2.1|       Learn To Code|Basic Engineering...|  19|\n",
      "|      2|    2.2|Get Familiar With...|Basic Engineering...|  19|\n",
      "|      2|    2.3|   Agile Development|Basic Engineering...|  19|\n",
      "|      2|    2.4|Software Engineer...|Basic Engineering...|  19|\n",
      "|      2|    2.5|Learn how a Compu...|Basic Engineering...|  19|\n",
      "|      2|    2.6|Data Network Tran...|Basic Engineering...|  19|\n",
      "|      2|    2.7|Security and Privacy|Basic Engineering...|  19|\n",
      "|      2|    2.8|               Linux|Basic Engineering...|  19|\n",
      "|      2|    2.9|              Docker|Basic Engineering...|  19|\n",
      "|      2|    2.1|           The Cloud|Basic Engineering...|  19|\n",
      "|      2|   2.11|Security Zone Design|Basic Engineering...|  19|\n",
      "|      3|    3.1|Data Science Plat...|Advanced Engineer...|  28|\n",
      "|      3|    3.2|    Hadoop Platforms|Advanced Engineer...|  28|\n",
      "|      3|    3.3|             Connect|Advanced Engineer...|  28|\n",
      "|      3|    3.4|              Buffer|Advanced Engineer...|  28|\n",
      "|      3|    3.5|Processing Framew...|Advanced Engineer...|  28|\n",
      "+-------+-------+--------------------+--------------------+----+\n",
      "only showing top 20 rows\n",
      "\n"
     ]
    }
   ],
   "source": [
    "viewDF = spark.sql(\"select * from bookView\")\n",
    "viewDF.show()"
   ]
  },
  {
   "cell_type": "code",
   "execution_count": null,
   "id": "c901206e-4628-4b7b-a337-b59460dc2275",
   "metadata": {},
   "outputs": [],
   "source": []
  }
 ],
 "metadata": {
  "kernelspec": {
   "display_name": "Python 3 (ipykernel)",
   "language": "python",
   "name": "python3"
  },
  "language_info": {
   "codemirror_mode": {
    "name": "ipython",
    "version": 3
   },
   "file_extension": ".py",
   "mimetype": "text/x-python",
   "name": "python",
   "nbconvert_exporter": "python",
   "pygments_lexer": "ipython3",
   "version": "3.10.8"
  }
 },
 "nbformat": 4,
 "nbformat_minor": 5
}
