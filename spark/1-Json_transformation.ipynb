{
 "cells": [
  {
   "cell_type": "markdown",
   "id": "61450604-9169-4bfc-98e4-0ff7d4cba293",
   "metadata": {},
   "source": [
    "## Session Initialization"
   ]
  },
  {
   "cell_type": "code",
   "execution_count": 1,
   "id": "16e77d9a-f937-46a3-8ef7-595384e0cd4c",
   "metadata": {},
   "outputs": [],
   "source": [
    "import pyspark\n",
    "from pyspark import SparkContext\n",
    "from pathlib import Path\n",
    "\n",
    "sc = SparkContext()\n",
    "spark = pyspark.sql.SparkSession(sc, jsparkSession=None)"
   ]
  },
  {
   "cell_type": "markdown",
   "id": "b51ffcce-a608-4c4f-a0e5-a890858eeac5",
   "metadata": {},
   "source": [
    "## Read Json file"
   ]
  },
  {
   "cell_type": "code",
   "execution_count": 2,
   "id": "627e6ddd-6abf-42b8-ba71-fcd12d00cb0d",
   "metadata": {},
   "outputs": [],
   "source": [
    "path = Path.cwd().parent / \"Files\" / \"bookcontents.json\"\n",
    "file = str(path)\n",
    "\n",
    "bookDF = spark.read.json(file)"
   ]
  },
  {
   "cell_type": "markdown",
   "id": "b12b0c91-e23e-4335-8d81-d1b9646b0aa8",
   "metadata": {},
   "source": [
    "## Schema"
   ]
  },
  {
   "cell_type": "code",
   "execution_count": 3,
   "id": "f602e3f9-47e5-4cd8-a794-d5a94497a015",
   "metadata": {},
   "outputs": [
    {
     "name": "stdout",
     "output_type": "stream",
     "text": [
      "root\n",
      " |-- Chapter: long (nullable = true)\n",
      " |-- Name: string (nullable = true)\n",
      " |-- Page: long (nullable = true)\n",
      "\n"
     ]
    }
   ],
   "source": [
    "bookDF.printSchema()"
   ]
  },
  {
   "cell_type": "markdown",
   "id": "c03ec7f1-7664-475f-b285-eddf9539d41c",
   "metadata": {},
   "source": [
    "## Action"
   ]
  },
  {
   "cell_type": "code",
   "execution_count": 4,
   "id": "ca0a8ca8-b0b3-4214-ad5f-42745e4cc534",
   "metadata": {},
   "outputs": [
    {
     "name": "stdout",
     "output_type": "stream",
     "text": [
      "+-------+--------------------+----+\n",
      "|Chapter|                Name|Page|\n",
      "+-------+--------------------+----+\n",
      "|      1|        Introduction|  11|\n",
      "|      2|Basic Engineering...|  19|\n",
      "|      3|Advanced Engineer...|  28|\n",
      "|      4|     Hands On Course|  60|\n",
      "|      5|        Case Studies|  62|\n",
      "|      6|Best Practices Cl...|  73|\n",
      "|      7|130+ Data Sources...|  77|\n",
      "|      8|1001 Interview Qu...|  82|\n",
      "|      9|Recommended Books...|  87|\n",
      "+-------+--------------------+----+\n",
      "\n"
     ]
    }
   ],
   "source": [
    "bookDF.show()"
   ]
  },
  {
   "cell_type": "markdown",
   "id": "8adbc49b-1447-4a4b-a913-09ed7638ff84",
   "metadata": {},
   "source": [
    "## Transformations"
   ]
  },
  {
   "cell_type": "code",
   "execution_count": 5,
   "id": "ad959719-3a9c-4056-9666-c2b1bf05c5d2",
   "metadata": {},
   "outputs": [
    {
     "name": "stdout",
     "output_type": "stream",
     "text": [
      "+----+-------+--------------------+\n",
      "|Page|Chapter|                Name|\n",
      "+----+-------+--------------------+\n",
      "|  82|      8|1001 Interview Qu...|\n",
      "|  73|      6|Best Practices Cl...|\n",
      "|  60|      4|     Hands On Course|\n",
      "|  19|      2|Basic Engineering...|\n",
      "+----+-------+--------------------+\n",
      "\n"
     ]
    }
   ],
   "source": [
    "df1 = bookDF.select(\"Page\", \"Chapter\", \"Name\").where(\"Chapter % 2 = 0\").orderBy(\"Page\", ascending=False)\n",
    "df1.show()"
   ]
  },
  {
   "cell_type": "markdown",
   "id": "670193e5-c99c-4484-88c0-914b59f453e6",
   "metadata": {},
   "source": [
    "## Chaining -> Query"
   ]
  },
  {
   "cell_type": "code",
   "execution_count": 6,
   "id": "13883837-eaa4-45f7-b1c3-d1114071b193",
   "metadata": {},
   "outputs": [
    {
     "name": "stdout",
     "output_type": "stream",
     "text": [
      "+-------+--------------------+----+\n",
      "|Chapter|                Name|Page|\n",
      "+-------+--------------------+----+\n",
      "|      3|Advanced Engineer...|  28|\n",
      "|      4|     Hands On Course|  60|\n",
      "|      5|        Case Studies|  62|\n",
      "|      8|1001 Interview Qu...|  82|\n",
      "+-------+--------------------+----+\n",
      "\n"
     ]
    }
   ],
   "source": [
    "bookDF.select(\"Chapter\",\"Name\",\"Page\").where(\"Page % 2 = 0\").orderBy(\"Chapter\").show()"
   ]
  },
  {
   "cell_type": "markdown",
   "id": "fae6dd7e-2884-4cd5-bd00-5f841f4e5367",
   "metadata": {},
   "source": [
    "## Save File"
   ]
  },
  {
   "cell_type": "code",
   "execution_count": null,
   "id": "91041894-9964-4301-9730-f8f344aeed18",
   "metadata": {},
   "outputs": [],
   "source": [
    "df1.write.json(\"df1\")"
   ]
  },
  {
   "cell_type": "code",
   "execution_count": null,
   "id": "33df3fb1-2c74-413e-8b63-a18d92faf5fc",
   "metadata": {},
   "outputs": [],
   "source": []
  }
 ],
 "metadata": {
  "kernelspec": {
   "display_name": "Python 3 (ipykernel)",
   "language": "python",
   "name": "python3"
  },
  "language_info": {
   "codemirror_mode": {
    "name": "ipython",
    "version": 3
   },
   "file_extension": ".py",
   "mimetype": "text/x-python",
   "name": "python",
   "nbconvert_exporter": "python",
   "pygments_lexer": "ipython3",
   "version": "3.10.8"
  }
 },
 "nbformat": 4,
 "nbformat_minor": 5
}
