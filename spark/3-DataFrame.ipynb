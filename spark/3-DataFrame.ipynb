{
 "cells": [
  {
   "cell_type": "markdown",
   "id": "04a83430-ba43-4371-a29d-de3b3139d912",
   "metadata": {},
   "source": [
    "## Session Initialization"
   ]
  },
  {
   "cell_type": "code",
   "execution_count": 1,
   "id": "c7d8f7d6-cf97-45f6-ad11-08f6ef3f137b",
   "metadata": {},
   "outputs": [],
   "source": [
    "from pathlib import Path\n",
    "import pyspark\n",
    "from pyspark import SparkContext\n",
    "\n",
    "sc = SparkContext()\n",
    "spark = pyspark.sql.SparkSession(sc, jsparkSession=None)"
   ]
  },
  {
   "cell_type": "markdown",
   "id": "13aee02c-cf5c-49f0-8d80-184449a6ce7c",
   "metadata": {},
   "source": [
    "## Join Data Frames"
   ]
  },
  {
   "cell_type": "code",
   "execution_count": 2,
   "id": "73d66ea5-c855-4fd1-9a52-9a5876f67d8b",
   "metadata": {},
   "outputs": [],
   "source": [
    "path_1 = Path.cwd().parent / \"Files\" / \"bookcontents.csv\"\n",
    "path_2 = Path.cwd().parent / \"Files\" / \"sections.csv\"\n",
    "book = str(path_1)\n",
    "section = str(path_2)"
   ]
  },
  {
   "cell_type": "code",
   "execution_count": 3,
   "id": "f2149494-d9ac-4720-ab9d-cd23ca650681",
   "metadata": {},
   "outputs": [],
   "source": [
    "# Load Chapters\n",
    "bookChapterDF = spark.read.option(\"InferSchema\", \"True\").option(\"header\", \"True\").csv(book)"
   ]
  },
  {
   "cell_type": "code",
   "execution_count": 4,
   "id": "97dc4dc7-1b3d-4efd-a855-5741f316f09b",
   "metadata": {},
   "outputs": [
    {
     "name": "stdout",
     "output_type": "stream",
     "text": [
      "+-------+--------------------+----+\n",
      "|Chapter|                Name|Page|\n",
      "+-------+--------------------+----+\n",
      "|      1|        Introduction|  11|\n",
      "|      2|Basic Engineering...|  19|\n",
      "|      3|Advanced Engineer...|  28|\n",
      "|      4|     Hands On Course|  60|\n",
      "|      5|        Case Studies|  62|\n",
      "|      6|Best Practices Cl...|  73|\n",
      "|      7|130+ Data Sources...|  77|\n",
      "|      8|1001 Interview Qu...|  82|\n",
      "|      9|Recommended Books...|  87|\n",
      "+-------+--------------------+----+\n",
      "\n"
     ]
    }
   ],
   "source": [
    "bookChapterDF.show()"
   ]
  },
  {
   "cell_type": "code",
   "execution_count": 5,
   "id": "dab119e4-b144-4cd2-bb3f-b53bb08e1d77",
   "metadata": {},
   "outputs": [
    {
     "name": "stdout",
     "output_type": "stream",
     "text": [
      "root\n",
      " |-- Chapter: integer (nullable = true)\n",
      " |-- Name: string (nullable = true)\n",
      " |-- Page: integer (nullable = true)\n",
      "\n"
     ]
    }
   ],
   "source": [
    "bookChapterDF.printSchema()"
   ]
  },
  {
   "cell_type": "code",
   "execution_count": 6,
   "id": "3a9a5123-390c-4b57-a864-67e7686113f2",
   "metadata": {},
   "outputs": [],
   "source": [
    "# Load Sections\n",
    "sectionDF = spark.read.option(\"InferSchema\",\"True\").option(\"header\",\"True\").csv(section)"
   ]
  },
  {
   "cell_type": "code",
   "execution_count": 7,
   "id": "fa9636df-d446-4fef-9ded-73307ea7a176",
   "metadata": {},
   "outputs": [
    {
     "name": "stdout",
     "output_type": "stream",
     "text": [
      "+-------+-------+--------------------+\n",
      "|Chapter|Section|        Section_Name|\n",
      "+-------+-------+--------------------+\n",
      "|      1|    1.1|What is this Cook...|\n",
      "|      1|    1.2|Data Engineer vs ...|\n",
      "|      1|    1.3|My Data Science P...|\n",
      "|      1|    1.4|  Who Companies Need|\n",
      "|      2|    2.1|       Learn To Code|\n",
      "|      2|    2.2|Get Familiar With...|\n",
      "|      2|    2.3|   Agile Development|\n",
      "|      2|    2.4|Software Engineer...|\n",
      "|      2|    2.5|Learn how a Compu...|\n",
      "+-------+-------+--------------------+\n",
      "only showing top 9 rows\n",
      "\n"
     ]
    }
   ],
   "source": [
    "sectionDF.show(9)"
   ]
  },
  {
   "cell_type": "code",
   "execution_count": 8,
   "id": "f837cebf-2539-49c8-9123-4dc828574268",
   "metadata": {},
   "outputs": [
    {
     "name": "stdout",
     "output_type": "stream",
     "text": [
      "root\n",
      " |-- Chapter: integer (nullable = true)\n",
      " |-- Section: double (nullable = true)\n",
      " |-- Section_Name: string (nullable = true)\n",
      "\n"
     ]
    }
   ],
   "source": [
    "sectionDF.printSchema()"
   ]
  },
  {
   "cell_type": "code",
   "execution_count": 9,
   "id": "f97d5fc1-f4a8-4e29-b8a8-7118d4a779bb",
   "metadata": {},
   "outputs": [
    {
     "name": "stdout",
     "output_type": "stream",
     "text": [
      "+-------+-------+--------------------+\n",
      "|Chapter|Section|        Section_Name|\n",
      "+-------+-------+--------------------+\n",
      "|      5|    5.1| Data Science Airbnb|\n",
      "|      5|    5.2| Data Science Amazon|\n",
      "|      5|    5.3|  Data Science Baidu|\n",
      "|      5|    5.4|Data Science Blac...|\n",
      "|      5|    5.5|    Data Science BMW|\n",
      "|      5|    5.6|Data Science Book...|\n",
      "|      5|    5.7|   Data Science CERN|\n",
      "|      5|    5.8| Data Science Disney|\n",
      "|      5|    5.9|    Data Science DLR|\n",
      "|      5|    5.1|Data Science Driv...|\n",
      "+-------+-------+--------------------+\n",
      "only showing top 10 rows\n",
      "\n"
     ]
    }
   ],
   "source": [
    "sectionDF.where(\"Chapter == 5\").show(10)"
   ]
  },
  {
   "cell_type": "code",
   "execution_count": 10,
   "id": "82220f75-3dc5-40a0-b642-afd5c4467ef9",
   "metadata": {},
   "outputs": [
    {
     "name": "stdout",
     "output_type": "stream",
     "text": [
      "+-------+--------------------+----+-------+--------------------+\n",
      "|Chapter|                Name|Page|Section|        Section_Name|\n",
      "+-------+--------------------+----+-------+--------------------+\n",
      "|      1|        Introduction|  11|    1.1|What is this Cook...|\n",
      "|      1|        Introduction|  11|    1.2|Data Engineer vs ...|\n",
      "|      1|        Introduction|  11|    1.3|My Data Science P...|\n",
      "|      1|        Introduction|  11|    1.4|  Who Companies Need|\n",
      "|      2|Basic Engineering...|  19|    2.1|       Learn To Code|\n",
      "|      2|Basic Engineering...|  19|    2.2|Get Familiar With...|\n",
      "|      2|Basic Engineering...|  19|    2.3|   Agile Development|\n",
      "|      2|Basic Engineering...|  19|    2.4|Software Engineer...|\n",
      "|      2|Basic Engineering...|  19|    2.5|Learn how a Compu...|\n",
      "|      2|Basic Engineering...|  19|    2.6|Data Network Tran...|\n",
      "|      2|Basic Engineering...|  19|    2.7|Security and Privacy|\n",
      "|      2|Basic Engineering...|  19|    2.8|               Linux|\n",
      "|      2|Basic Engineering...|  19|    2.9|              Docker|\n",
      "|      2|Basic Engineering...|  19|    2.1|           The Cloud|\n",
      "|      2|Basic Engineering...|  19|   2.11|Security Zone Design|\n",
      "+-------+--------------------+----+-------+--------------------+\n",
      "\n"
     ]
    }
   ],
   "source": [
    "# join\n",
    "# inner,outer,left_outer,right_outer,leftsemi\n",
    "bookChapterDF.join(sectionDF, \"Chapter\", \"inner\").where(\"Chapter == 1 or Chapter == 2\").show()"
   ]
  },
  {
   "cell_type": "markdown",
   "id": "a87f890e-5fe2-486e-8bbc-34d954b6fad8",
   "metadata": {},
   "source": [
    "## Access Columns"
   ]
  },
  {
   "cell_type": "code",
   "execution_count": 11,
   "id": "a4a1c9cc-88ce-4ac1-8daf-b13e05afcf02",
   "metadata": {},
   "outputs": [
    {
     "name": "stdout",
     "output_type": "stream",
     "text": [
      "+-------+--------------------+----+-------+--------------------+\n",
      "|Chapter|                Name|Page|Section|        Section_Name|\n",
      "+-------+--------------------+----+-------+--------------------+\n",
      "|      1|        Introduction|  11|    1.1|What is this Cook...|\n",
      "|      1|        Introduction|  11|    1.2|Data Engineer vs ...|\n",
      "|      1|        Introduction|  11|    1.3|My Data Science P...|\n",
      "|      1|        Introduction|  11|    1.4|  Who Companies Need|\n",
      "|      2|Basic Engineering...|  19|    2.1|       Learn To Code|\n",
      "|      2|Basic Engineering...|  19|    2.2|Get Familiar With...|\n",
      "|      2|Basic Engineering...|  19|    2.3|   Agile Development|\n",
      "|      2|Basic Engineering...|  19|    2.4|Software Engineer...|\n",
      "|      2|Basic Engineering...|  19|    2.5|Learn how a Compu...|\n",
      "+-------+--------------------+----+-------+--------------------+\n",
      "only showing top 9 rows\n",
      "\n"
     ]
    }
   ],
   "source": [
    "bookContentDF = bookChapterDF.join(sectionDF, \"Chapter\")\n",
    "bookContentDF.show(9)"
   ]
  },
  {
   "cell_type": "code",
   "execution_count": 12,
   "id": "6d2ff637-49f0-49bb-a8e7-dd268a8fa211",
   "metadata": {},
   "outputs": [
    {
     "name": "stdout",
     "output_type": "stream",
     "text": [
      "+--------------------+-------+\n",
      "|        Section_Name|Chapter|\n",
      "+--------------------+-------+\n",
      "|What is this Cook...|      1|\n",
      "|Data Engineer vs ...|      1|\n",
      "|My Data Science P...|      1|\n",
      "|  Who Companies Need|      1|\n",
      "|       Learn To Code|      2|\n",
      "|Get Familiar With...|      2|\n",
      "|   Agile Development|      2|\n",
      "|Software Engineer...|      2|\n",
      "|Learn how a Compu...|      2|\n",
      "+--------------------+-------+\n",
      "only showing top 9 rows\n",
      "\n"
     ]
    }
   ],
   "source": [
    "bookContentDF.select(bookContentDF.Section_Name, \"Chapter\").show(9)"
   ]
  },
  {
   "cell_type": "markdown",
   "id": "6a30cfc4-6c99-40c4-acd0-cb39b6bdf7c0",
   "metadata": {},
   "source": [
    "## Working with Columns Expressions"
   ]
  },
  {
   "cell_type": "code",
   "execution_count": 13,
   "id": "6019f0f5-a882-4276-9122-bef325e191bd",
   "metadata": {},
   "outputs": [
    {
     "name": "stdout",
     "output_type": "stream",
     "text": [
      "+--------------------+----------+\n",
      "|        Section_Name|Chapter_10|\n",
      "+--------------------+----------+\n",
      "|What is this Cook...|        10|\n",
      "|Data Engineer vs ...|        10|\n",
      "|My Data Science P...|        10|\n",
      "|  Who Companies Need|        10|\n",
      "|       Learn To Code|        20|\n",
      "|Get Familiar With...|        20|\n",
      "|   Agile Development|        20|\n",
      "|Software Engineer...|        20|\n",
      "|Learn how a Compu...|        20|\n",
      "|Data Network Tran...|        20|\n",
      "|Security and Privacy|        20|\n",
      "|               Linux|        20|\n",
      "|              Docker|        20|\n",
      "|           The Cloud|        20|\n",
      "|Security Zone Design|        20|\n",
      "|Data Science Plat...|        30|\n",
      "|    Hadoop Platforms|        30|\n",
      "|             Connect|        30|\n",
      "|              Buffer|        30|\n",
      "|Processing Framew...|        30|\n",
      "+--------------------+----------+\n",
      "only showing top 20 rows\n",
      "\n"
     ]
    }
   ],
   "source": [
    "# use aliases for columns\n",
    "bookContentDF.select(\"Section_Name\", (bookContentDF.Chapter * 10).alias(\"Chapter_10\")).show()"
   ]
  },
  {
   "cell_type": "code",
   "execution_count": 14,
   "id": "6fe31728-1e81-4c47-8e42-b0419bfb36f6",
   "metadata": {},
   "outputs": [
    {
     "name": "stdout",
     "output_type": "stream",
     "text": [
      "+-------+------------+----+-------+--------------------+\n",
      "|Chapter|        Name|Page|Section|        Section_Name|\n",
      "+-------+------------+----+-------+--------------------+\n",
      "|      5|Case Studies|  62|    5.1| Data Science Airbnb|\n",
      "|      5|Case Studies|  62|    5.2| Data Science Amazon|\n",
      "|      5|Case Studies|  62|    5.3|  Data Science Baidu|\n",
      "|      5|Case Studies|  62|    5.4|Data Science Blac...|\n",
      "|      5|Case Studies|  62|    5.5|    Data Science BMW|\n",
      "|      5|Case Studies|  62|    5.6|Data Science Book...|\n",
      "|      5|Case Studies|  62|    5.7|   Data Science CERN|\n",
      "|      5|Case Studies|  62|    5.8| Data Science Disney|\n",
      "|      5|Case Studies|  62|    5.9|    Data Science DLR|\n",
      "|      5|Case Studies|  62|    5.1|Data Science Driv...|\n",
      "|      5|Case Studies|  62|   5.11|Data Science Dropbox|\n",
      "|      5|Case Studies|  62|   5.12|   Data Science Ebay|\n",
      "|      5|Case Studies|  62|   5.13|Data Science Expedia|\n",
      "|      5|Case Studies|  62|   5.14|Data Science Face...|\n",
      "|      5|Case Studies|  62|   5.15| Data Science Google|\n",
      "|      5|Case Studies|  62|   5.16|Data Science Gram...|\n",
      "|      5|Case Studies|  62|   5.17|Data Science ING ...|\n",
      "|      5|Case Studies|  62|   5.18|Data Science Inst...|\n",
      "|      5|Case Studies|  62|   5.19|Data Science Link...|\n",
      "|      5|Case Studies|  62|    5.2|   Data Science Lyft|\n",
      "+-------+------------+----+-------+--------------------+\n",
      "only showing top 20 rows\n",
      "\n"
     ]
    }
   ],
   "source": [
    "# Select something specific\n",
    "bookContentDF.where(bookContentDF.Name.contains(\"Case\") & bookContentDF.Section_Name.contains(\"Data\")).show()"
   ]
  },
  {
   "cell_type": "markdown",
   "id": "af91179e-d3c4-4b2f-a691-0b6bb02f073a",
   "metadata": {},
   "source": [
    "## Group By & Aggregation Function"
   ]
  },
  {
   "cell_type": "code",
   "execution_count": 15,
   "id": "f7e2e9d8-ec78-4083-8aff-f200c8c17fe6",
   "metadata": {},
   "outputs": [
    {
     "name": "stdout",
     "output_type": "stream",
     "text": [
      "+-------+-----+\n",
      "|Chapter|count|\n",
      "+-------+-----+\n",
      "|      1|    4|\n",
      "|      6|    3|\n",
      "|      3|    8|\n",
      "|      5|   37|\n",
      "|      9|    3|\n",
      "|      4|    7|\n",
      "|      8|    1|\n",
      "|      7|   19|\n",
      "|      2|   11|\n",
      "+-------+-----+\n",
      "\n"
     ]
    }
   ],
   "source": [
    "# Group by aggregation options:\n",
    "# agg(additional functions), count, mean, max or min, pivot, sum\n",
    "bookContentDF.groupBy(bookContentDF.Chapter).count().show()"
   ]
  },
  {
   "cell_type": "code",
   "execution_count": null,
   "id": "a7e9e5cd-df80-400d-a9d1-62b50b6d9aca",
   "metadata": {},
   "outputs": [],
   "source": []
  }
 ],
 "metadata": {
  "kernelspec": {
   "display_name": "Python 3 (ipykernel)",
   "language": "python",
   "name": "python3"
  },
  "language_info": {
   "codemirror_mode": {
    "name": "ipython",
    "version": 3
   },
   "file_extension": ".py",
   "mimetype": "text/x-python",
   "name": "python",
   "nbconvert_exporter": "python",
   "pygments_lexer": "ipython3",
   "version": "3.10.8"
  }
 },
 "nbformat": 4,
 "nbformat_minor": 5
}
